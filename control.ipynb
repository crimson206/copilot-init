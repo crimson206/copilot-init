{
 "cells": [
  {
   "cell_type": "code",
   "execution_count": 3,
   "metadata": {},
   "outputs": [
    {
     "name": "stdout",
     "output_type": "stream",
     "text": [
      "Files collected from . to flatten\n"
     ]
    }
   ],
   "source": [
    "from crimson.file_loader import collect_files\n",
    "\n",
    "collect_files(\n",
    "\tsource=\".\",\n",
    "\tout_dir=\"flatten\",\n",
    "\tincludes=[\n",
    "\t\t\"src\",\n",
    "\t\t\"package.json\",\n",
    "\t\t\"README.md\",\n",
    "\t\t\"tsconfig.json\",\n",
    "\t\t\"py_client.ipynb\",\n",
    "\t],\n",
    "\texcludes=[\n",
    "\t\t\"node_modules\"\n",
    "\t]\n",
    ")"
   ]
  },
  {
   "cell_type": "code",
   "execution_count": null,
   "metadata": {},
   "outputs": [],
   "source": [
    "\"\""
   ]
  }
 ],
 "metadata": {
  "kernelspec": {
   "display_name": "base",
   "language": "python",
   "name": "python3"
  },
  "language_info": {
   "codemirror_mode": {
    "name": "ipython",
    "version": 3
   },
   "file_extension": ".py",
   "mimetype": "text/x-python",
   "name": "python",
   "nbconvert_exporter": "python",
   "pygments_lexer": "ipython3",
   "version": "3.12.2"
  }
 },
 "nbformat": 4,
 "nbformat_minor": 2
}
