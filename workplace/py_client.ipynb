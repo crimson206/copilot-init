{
 "cells": [
  {
   "cell_type": "markdown",
   "metadata": {},
   "source": [
    "Install the python client.\n",
    "\n",
    "```sh\n",
    "pip install crimson-copilot-init-client\n",
    "```"
   ]
  },
  {
   "cell_type": "code",
   "execution_count": 1,
   "metadata": {},
   "outputs": [],
   "source": [
    "from crimson.copilot_init_client.client import CopilotClient"
   ]
  },
  {
   "cell_type": "code",
   "execution_count": null,
   "metadata": {},
   "outputs": [
    {
     "name": "stdout",
     "output_type": "stream",
     "text": [
      "Available models:\n",
      "- GPT 3.5 Turbo (copilot/gpt-3.5-turbo)\n",
      "- GPT-4o mini (copilot/gpt-4o-mini)\n",
      "- GPT 4 (copilot/gpt-4)\n",
      "- GPT-4o (copilot/gpt-4o)\n",
      "- o1 (Preview) (copilot/o1-ga)\n",
      "- o3-mini (Preview) (copilot/o3-mini)\n",
      "- Claude 3.5 Sonnet (Preview) (copilot/claude-3.5-sonnet)\n",
      "- Claude 3.7 Sonnet (Preview) (copilot/claude-3.7-sonnet)\n",
      "- Claude 3.7 Sonnet Thinking (Preview) (copilot/claude-3.7-sonnet-thought)\n",
      "- Gemini 2.0 Flash (Preview) (copilot/gemini-2.0-flash)\n"
     ]
    }
   ],
   "source": [
    "client = CopilotClient(\n",
    "\tbase_url=\"http://localhost:3002\",\n",
    ")\n",
    "\n",
    "# List available models\n",
    "print(\"Available models:\")\n",
    "models = client.list_models()\n",
    "for model in models:\n",
    "\tprint(f\"- {model['name']} ({model['vendor']}/{model['family']})\")"
   ]
  },
  {
   "cell_type": "code",
   "execution_count": 3,
   "metadata": {},
   "outputs": [
    {
     "data": {
      "text/plain": [
       "\"Certainly! Here's a simple Python function to calculate the factorial of a number:\\n\\n```python\\ndef factorial(n):\\n    if n == 0:\\n        return 1\\n    else:\\n        return n * factorial(n-1)\\n```\\n\\nYou can call this function by passing an integer as an argument, like `factorial(5)`, and it will return the factorial of that number.\""
      ]
     },
     "execution_count": 3,
     "metadata": {},
     "output_type": "execute_result"
    }
   ],
   "source": [
    "client.chat(\"Write me a simple Python function to calculate factorial\")"
   ]
  },
  {
   "cell_type": "code",
   "execution_count": 4,
   "metadata": {},
   "outputs": [
    {
     "name": "stdout",
     "output_type": "stream",
     "text": [
      "Certainly! Here's a simple Python function to calculate the factorial of a number:\n",
      "\n",
      "```python\n",
      "def factorial(n):\n",
      "    if n == 0:\n",
      "        return 1\n",
      "    else:\n",
      "        return n * factorial(n-1)\n",
      "```\n",
      "\n",
      "You can call this function by passing an integer as an argument, like `factorial(5)`, and it will return the factorial of that number.\n"
     ]
    }
   ],
   "source": [
    "for fragment in client.chat_stream(\"Write me a simple Python function to calculate factorial\"):\n",
    "    print(fragment, end='', flush=True)  # Print fragments as they arrive\n",
    "print()  # Final newline"
   ]
  }
 ],
 "metadata": {
  "kernelspec": {
   "display_name": "copilot-init",
   "language": "python",
   "name": "python3"
  },
  "language_info": {
   "codemirror_mode": {
    "name": "ipython",
    "version": 3
   },
   "file_extension": ".py",
   "mimetype": "text/x-python",
   "name": "python",
   "nbconvert_exporter": "python",
   "pygments_lexer": "ipython3",
   "version": "3.12.9"
  }
 },
 "nbformat": 4,
 "nbformat_minor": 2
}
